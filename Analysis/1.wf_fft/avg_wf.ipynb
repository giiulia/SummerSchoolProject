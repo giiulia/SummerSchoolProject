{
  "metadata": {
    "kernelspec": {
      "name": "python",
      "display_name": "Python (Pyodide)",
      "language": "python"
    },
    "language_info": {
      "codemirror_mode": {
        "name": "python",
        "version": 3
      },
      "file_extension": ".py",
      "mimetype": "text/x-python",
      "name": "python",
      "nbconvert_exporter": "python",
      "pygments_lexer": "ipython3",
      "version": "3.8"
    }
  },
  "nbformat_minor": 4,
  "nbformat": 4,
  "cells": [
    {
      "cell_type": "code",
      "source": "import numpy as np\nimport pandas as pd\nimport glob\n\ndef mean_wf(all_amplitudes):\n    means = np.mean(all_amplitudes, axis=0)\n    print(means)\n    stds = np.std(all_amplitudes, axis=0)\n    return means, stds",
      "metadata": {
        "trusted": true
      },
      "outputs": [],
      "execution_count": null
    },
    {
      "cell_type": "code",
      "source": "file_pattern = 'wf/wf_17.23_250724_*.csv'\nfile_list = glob.glob(file_pattern)\n\namplitudes_list = []\n\nfor i, file in enumerate(file_list):\n    df = pd.read_csv(file)\n    if i == 0:\n        times = df.iloc[1:, 0].values\n    amplitudes_list.append(df.iloc[1:, 1].values)\n\nall_amplitudes = np.column_stack(amplitudes)",
      "metadata": {
        "trusted": true
      },
      "outputs": [],
      "execution_count": null
    },
    {
      "cell_type": "code",
      "source": "amplitudes, errors = mean_wf(all_amplitudes)\n\nplt.figure(figsize=(10, 4))\nplt.plot(times, amplitudes, label='17.23 - 25072024')\nplt.title('Waveform Plot')\nplt.xlabel('Time (ms)')\nplt.ylabel('Amplitude (V)')\nplt.legend()\nplt.grid(True)\nplt.show()",
      "metadata": {
        "trusted": true
      },
      "outputs": [],
      "execution_count": null
    },
    {
      "cell_type": "code",
      "source": "",
      "metadata": {
        "trusted": true
      },
      "outputs": [],
      "execution_count": null
    }
  ]
}