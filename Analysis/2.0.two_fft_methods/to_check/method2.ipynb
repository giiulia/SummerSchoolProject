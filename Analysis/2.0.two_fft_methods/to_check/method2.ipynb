{
 "cells": [
  {
   "cell_type": "code",
   "execution_count": 1,
   "metadata": {},
   "outputs": [],
   "source": [
    "import pandas as pd\n",
    "import numpy as np\n",
    "import matplotlib.pyplot as plt\n",
    "from scipy import fft\n",
    "from scipy.signal import get_window\n",
    "import glob\n",
    "import time\n",
    "\n",
    "def plot_scatter_func(x, y, label, title, xlab, ylab, x1 = None, x2 = None, y1 = None, y2 = None):\n",
    "\n",
    "    f, ax = plt.subplots(figsize = (20, 10))\n",
    "    ax.scatter(x, y, label = label)\n",
    "    ax.set_title(title, fontsize = 30)\n",
    "    ax.set_xlabel(xlab, fontsize = 30)\n",
    "    ax.set_ylabel(ylab, fontsize = 30)\n",
    "    ax.tick_params(axis='both', which='major', labelsize=30)\n",
    "    ax.set_xlim(x1, x2)\n",
    "    ax.set_ylim(y1, y2)\n",
    "    ax.legend(loc = 'best', fontsize = 20)\n",
    "    ax.grid(True)\n",
    "\n",
    "    return f\n",
    "\n",
    "def phase_func(Y):\n",
    "    phases = np.angle(Y) * 180 / np.pi\n",
    "    \n",
    "    return phases\n",
    "\n",
    "#dBu = 20log10(V/0.775V)\n",
    "\n",
    "#Why the windowing? The FFT assumes that the signal is periodic and continuous within the window. \n",
    "#If the signal is not perfectly periodic, it can cause spectral leakage, which results in an offset or differences in the frequency spectrum.\n",
    "\n",
    "def rfft(y, cnv): #this function computes the fft of y\n",
    "    #window = get_window(\"hanning\", len(y))\n",
    "    #window = 1\n",
    "    #y_windowed = y * window\n",
    "    if np.isnan(y).any():\n",
    "        nan_indices = np.where(np.isin(y))[0]\n",
    "        print(f\"Input data contains NaN values in {nan_indices}.\")\n",
    "        \n",
    "    if np.isinf(y).any():\n",
    "        print(\"Input data contains Inf values.\")\n",
    "        \n",
    "    N = len(y)\n",
    "    print(f\"y_windowed: {y}\")\n",
    "    Y = fft.rfft(y)\n",
    "    print(f\"Y: {Y}\")\n",
    "    phases = phase_func(Y)\n",
    "    print(phases)\n",
    "    Y_normalized = np.abs(Y) / N\n",
    "    Y_dBu = 20*(np.log10(np.abs(Y_normalized)  * cnv / 0.775 ))\n",
    "        \n",
    "    return Y_dBu, phases"
   ]
  },
  {
   "cell_type": "code",
   "execution_count": 4,
   "metadata": {},
   "outputs": [],
   "source": [
    "hour = '15.42'\n",
    "day = '08082024'"
   ]
  },
  {
   "cell_type": "code",
   "execution_count": 7,
   "metadata": {},
   "outputs": [
    {
     "name": "stdout",
     "output_type": "stream",
     "text": [
      "No files found for the given pattern.\n"
     ]
    },
    {
     "ename": "ValueError",
     "evalue": "need at least one array to stack",
     "output_type": "error",
     "traceback": [
      "\u001b[1;31m---------------------------------------------------------------------------\u001b[0m",
      "\u001b[1;31mValueError\u001b[0m                                Traceback (most recent call last)",
      "Cell \u001b[1;32mIn[7], line 23\u001b[0m\n\u001b[0;32m     19\u001b[0m             \u001b[38;5;66;03m#amplitudes_A[nan_indices] = 0\u001b[39;00m\n\u001b[0;32m     21\u001b[0m         amplitudes_list\u001b[38;5;241m.\u001b[39mappend(amplitudes)\n\u001b[1;32m---> 23\u001b[0m all_amplitudes \u001b[38;5;241m=\u001b[39m \u001b[43mnp\u001b[49m\u001b[38;5;241;43m.\u001b[39;49m\u001b[43mstack\u001b[49m\u001b[43m(\u001b[49m\u001b[43mamplitudes_list\u001b[49m\u001b[43m,\u001b[49m\u001b[43m \u001b[49m\u001b[43maxis\u001b[49m\u001b[43m \u001b[49m\u001b[38;5;241;43m=\u001b[39;49m\u001b[43m \u001b[49m\u001b[38;5;241;43m0\u001b[39;49m\u001b[43m)\u001b[49m\n\u001b[0;32m     24\u001b[0m \u001b[38;5;28mprint\u001b[39m(all_amplitudes)\n",
      "File \u001b[1;32m<__array_function__ internals>:180\u001b[0m, in \u001b[0;36mstack\u001b[1;34m(*args, **kwargs)\u001b[0m\n",
      "File \u001b[1;32mc:\\Users\\giuly\\AppData\\Local\\Programs\\Python\\Python39\\lib\\site-packages\\numpy\\core\\shape_base.py:422\u001b[0m, in \u001b[0;36mstack\u001b[1;34m(arrays, axis, out)\u001b[0m\n\u001b[0;32m    420\u001b[0m arrays \u001b[38;5;241m=\u001b[39m [asanyarray(arr) \u001b[38;5;28;01mfor\u001b[39;00m arr \u001b[38;5;129;01min\u001b[39;00m arrays]\n\u001b[0;32m    421\u001b[0m \u001b[38;5;28;01mif\u001b[39;00m \u001b[38;5;129;01mnot\u001b[39;00m arrays:\n\u001b[1;32m--> 422\u001b[0m     \u001b[38;5;28;01mraise\u001b[39;00m \u001b[38;5;167;01mValueError\u001b[39;00m(\u001b[38;5;124m'\u001b[39m\u001b[38;5;124mneed at least one array to stack\u001b[39m\u001b[38;5;124m'\u001b[39m)\n\u001b[0;32m    424\u001b[0m shapes \u001b[38;5;241m=\u001b[39m {arr\u001b[38;5;241m.\u001b[39mshape \u001b[38;5;28;01mfor\u001b[39;00m arr \u001b[38;5;129;01min\u001b[39;00m arrays}\n\u001b[0;32m    425\u001b[0m \u001b[38;5;28;01mif\u001b[39;00m \u001b[38;5;28mlen\u001b[39m(shapes) \u001b[38;5;241m!=\u001b[39m \u001b[38;5;241m1\u001b[39m:\n",
      "\u001b[1;31mValueError\u001b[0m: need at least one array to stack"
     ]
    }
   ],
   "source": [
    "file_pattern = f\"../../Waveforms/{day}/{day}_{hour}/{day}_{hour}_wf.csv/{day}_{hour}_wf_*.csv\"\n",
    "file_list = glob.glob(file_pattern)\n",
    "\n",
    "amplitudes_list = []\n",
    "\n",
    "if not file_list:\n",
    "    print(\"No files found for the given pattern.\")\n",
    "else:\n",
    "    for i, file in enumerate(file_list):\n",
    "        df = pd.read_csv(file)\n",
    "        if i == 0:\n",
    "            print(df.iloc[:, 0])\n",
    "            print(df.iloc[:, 1])\n",
    "            times = pd.to_numeric(df.iloc[1:, 0], errors = 'coerce').values #The argument errors='coerce' specifies that any non-numeric values encountered during the conversion should be replaced with NaN (Not a Number)\n",
    "        amplitudes = pd.to_numeric(df.iloc[1:, 1], errors='coerce').values\n",
    "        if np.isnan(amplitudes).any():\n",
    "            nan_indices = np.where(np.isnan(amplitudes))[0]\n",
    "            print(f\"Input data contains NaN values in {nan_indices} at {i} file.\")\n",
    "            #amplitudes_A[nan_indices] = 0\n",
    " \n",
    "        amplitudes_list.append(amplitudes)\n",
    "\n",
    "all_amplitudes = np.stack(amplitudes_list, axis = 0)\n",
    "print(all_amplitudes)"
   ]
  }
 ],
 "metadata": {
  "kernelspec": {
   "display_name": "Python 3",
   "language": "python",
   "name": "python3"
  },
  "language_info": {
   "codemirror_mode": {
    "name": "ipython",
    "version": 3
   },
   "file_extension": ".py",
   "mimetype": "text/x-python",
   "name": "python",
   "nbconvert_exporter": "python",
   "pygments_lexer": "ipython3",
   "version": "3.9.2"
  }
 },
 "nbformat": 4,
 "nbformat_minor": 2
}
